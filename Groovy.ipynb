{
 "cells": [
  {
   "cell_type": "markdown",
   "metadata": {},
   "source": [
    "Just a test\n",
    "======\n",
    "\n",
    "This is just a test for a beakerx notebook with *groovy*"
   ]
  },
  {
   "cell_type": "code",
   "execution_count": 1,
   "metadata": {},
   "outputs": [
    {
     "data": {
      "text/plain": [
       "Sat May 25 10:39:03 GMT 2019"
      ]
     },
     "execution_count": 1,
     "metadata": {},
     "output_type": "execute_result"
    }
   ],
   "source": [
    "new Date()"
   ]
  },
  {
   "cell_type": "code",
   "execution_count": 27,
   "metadata": {},
   "outputs": [
    {
     "name": "stdout",
     "output_type": "stream",
     "text": [
      "/srv/conda/envs/notebook/share/jalview-2.10.5-3/jalview.jar\n",
      "\n"
     ]
    }
   ],
   "source": [
    "%%python\n",
    "from beakerx.object import beakerx\n",
    "import subprocess\n",
    "import re\n",
    "import io\n",
    "\n",
    "p = subprocess.Popen([\"find\", \"/\",\"-name\",\"jalview.jar\", \"-type\", \"f\",\"-print\"], stdout=subprocess.PIPE)\n",
    "jalviewpath = io.TextIOWrapper(p.stdout, encoding=\"utf-8\").readline()\n",
    "p.stdout.close()\n",
    "print(jalviewpath)"
   ]
  },
  {
   "cell_type": "code",
   "execution_count": 30,
   "metadata": {},
   "outputs": [],
   "source": [
    "%%python\n",
    "beakerx.path = re.match(\"(.+\\/)jalview.jar\",jalviewpath).group(1) + \"*\"\n"
   ]
  },
  {
   "cell_type": "code",
   "execution_count": 29,
   "metadata": {},
   "outputs": [
    {
     "name": "stderr",
     "output_type": "stream",
     "text": [
      "Bad classpath, file not found\n"
     ]
    }
   ],
   "source": [
    "print \"TODO - pass beakerx.path via autotranslation\"\n",
    "%classpath add jar /srv/conda/envs/notebook/share/jalview-2.10.5-3/*\n"
   ]
  },
  {
   "cell_type": "code",
   "execution_count": null,
   "metadata": {},
   "outputs": [
    {
     "name": "stdout",
     "output_type": "stream",
     "text": [
      "Java version: 11.0.1\n",
      "amd64 Linux 4.14.91+\n",
      "Usage: jalview -open [FILE] [OUTPUT_FORMAT] [OUTPUT_FILE]\n",
      "\n",
      "-nodisplay\tRun Jalview without User Interface.\n",
      "-props FILE\tUse the given Jalview properties file instead of users default.\n",
      "-colour COLOURSCHEME\tThe colourscheme to be applied to the alignment\n",
      "-annotations FILE\tAdd precalculated annotations to the alignment.\n",
      "-tree FILE\tLoad the given newick format tree file onto the alignment\n",
      "-features FILE\tUse the given file to mark features on the alignment.\n",
      "-fasta FILE\tCreate alignment file FILE in Fasta format.\n",
      "-clustal FILE\tCreate alignment file FILE in Clustal format.\n",
      "-pfam FILE\tCreate alignment file FILE in PFAM format.\n",
      "-msf FILE\tCreate alignment file FILE in MSF format.\n",
      "-pileup FILE\tCreate alignment file FILE in Pileup format\n",
      "-pir FILE\tCreate alignment file FILE in PIR format.\n",
      "-blc FILE\tCreate alignment file FILE in BLC format.\n",
      "-json FILE\tCreate alignment file FILE in JSON format.\n",
      "-jalview FILE\tCreate alignment file FILE in Jalview format.\n",
      "-png FILE\tCreate PNG image FILE from alignment.\n",
      "-svg FILE\tCreate SVG image FILE from alignment.\n",
      "-html FILE\tCreate HTML file from alignment.\n",
      "-biojsMSA FILE\tCreate BioJS MSA Viewer HTML file from alignment.\n",
      "-imgMap FILE\tCreate HTML file FILE with image map of PNG image.\n",
      "-eps FILE\tCreate EPS file FILE from alignment.\n",
      "-questionnaire URL\tQueries the given URL for information about any Jalview user questionnaires.\n",
      "-noquestionnaire\tTurn off questionnaire check.\n",
      "-nonews\tTurn off check for Jalview news.\n",
      "-nousagestats\tTurn off google analytics tracking for this session.\n",
      "-sortbytree OR -nosortbytree\tEnable or disable sorting of the given alignment by the given tree\n",
      "-jabaws URL\tSpecify URL for Jabaws services (e.g. for a local installation).\n",
      "-dasserver nickname=URL\tAdd and enable a das server with given nickname\n",
      "\t\t\t(alphanumeric or underscores only) for retrieval of features for all alignments.\n",
      "\t\t\tSources that also support the sequence command may be specified by prepending the URL with sequence:\n",
      "\t\t\t e.g. sequence:http://localdas.somewhere.org/das/source)\n",
      "-fetchfrom nickname\tQuery nickname for features for the alignments and display them.\n",
      "-groovy FILE\tExecute groovy script in FILE, after all other arguments have been processed (if FILE is the text 'STDIN' then the file will be read from STDIN)\n",
      "\n",
      "~Read documentation in Application or visit http://www.jalview.org for description of Features and Annotations file~\n",
      "\n",
      "\n"
     ]
    }
   ],
   "source": [
    "import jalview.bin.Jalview\n",
    "import jalview.gui.Desktop\n",
    "\n",
    "jalview.bin.Jalview.main([\"-nogui\",\"-help\"] as java.lang.String[]);"
   ]
  },
  {
   "cell_type": "code",
   "execution_count": null,
   "metadata": {},
   "outputs": [],
   "source": []
  }
 ],
 "metadata": {
  "celltoolbar": "Raw Cell Format",
  "kernelspec": {
   "display_name": "Groovy",
   "language": "groovy",
   "name": "groovy"
  },
  "language_info": {
   "codemirror_mode": "groovy",
   "file_extension": ".groovy",
   "mimetype": "",
   "name": "Groovy",
   "nbconverter_exporter": "",
   "version": "2.5.6"
  },
  "toc": {
   "base_numbering": 1,
   "nav_menu": {},
   "number_sections": false,
   "sideBar": false,
   "skip_h1_title": false,
   "title_cell": "Table of Contents",
   "title_sidebar": "Contents",
   "toc_cell": false,
   "toc_position": {},
   "toc_section_display": false,
   "toc_window_display": false
  }
 },
 "nbformat": 4,
 "nbformat_minor": 2
}
