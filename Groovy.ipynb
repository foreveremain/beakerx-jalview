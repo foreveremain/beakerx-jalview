{
 "cells": [
  {
   "cell_type": "markdown",
   "metadata": {},
   "source": [
    "Just a test\n",
    "======\n",
    "\n",
    "This is just a test for a beakerx notebook with *groovy*"
   ]
  },
  {
   "cell_type": "code",
   "execution_count": 2,
   "metadata": {},
   "outputs": [
    {
     "data": {
      "text/plain": [
       "Sat Apr 07 13:19:50 CEST 2018"
      ]
     },
     "execution_count": 2,
     "metadata": {},
     "output_type": "execute_result"
    }
   ],
   "source": [
    "new Date()"
   ]
  },
  {
   "cell_type": "code",
   "execution_count": 15,
   "metadata": {},
   "outputs": [
    {
     "data": {
      "text/plain": [
       "(b'activation.jar\\napache-mime4j-0.6.jar\\naxis.jar\\nbiojava-core-4.1.0.jar\\nbiojava-ontology-4.1.0.jar\\ncastor-1.1-cycle-xml.jar\\ncommons-codec-1.3.jar\\ncommons-discovery.jar\\ncommons-logging-1.1.1.jar\\ngroovy-all-2.4.12-indy.jar\\nhtsjdk-1.133.jar\\nhttpclient-4.0.3.jar\\nhttpcore-4.0.1.jar\\nhttpmime-4.0.3.jar\\njabaws-min-client-2.2.0.jar\\njalview.jar\\njalview.sh\\njava-json.jar\\njaxrpc.jar\\njdas-1.0.4.jar\\njersey-client-1.19.jar\\njersey-core-1.19.jar\\njersey-json-1.19.jar\\njetty-http-9.2.10.v20150310.jar\\njetty-io-9.2.10.v20150310.jar\\njetty-server-9.2.10.v20150310.jar\\njetty-util-9.2.10.v20150310.jar\\njfreesvg-2.1.jar\\nJGoogleAnalytics_0.3.jar\\njhall.jar\\nJmol-14.6.4_2016.10.26.jar\\njson_simple-1.1.jar\\njsoup-1.8.1.jar\\njsr311-api-1.1.1.jar\\njswingreader-0.3.jar\\nlibquaqua64-8.0.jnilib.jar\\nlibquaqua-8.0.jnilib.jar\\nlog4j-to-slf4j-2.0-rc2.jar\\nmail.jar\\nmiglayout-4.0-swing.jar\\nquaqua-filechooser-only-8.0.jar\\nregex.jar\\nsaaj.jar\\nservlet-api-3.1.jar\\nslf4j-api-1.7.7.jar\\nslf4j-log4j12-1.7.7.jar\\nspring-core-3.0.5.RELEASE.jar\\nspring-web-3.0.5.RELEASE.jar\\nvamsas-client.jar\\nVAqua5-patch.jar\\nVARNAv3-93.jar\\nwsdl4j.jar\\nxercesImpl.jar\\nxml-apis.jar\\n',\n",
       " None)"
      ]
     },
     "execution_count": 13,
     "metadata": {},
     "output_type": "execute_result"
    }
   ],
   "source": [
    "%%python\n",
    "import subprocess\n",
    "\n",
    "p = subprocess.Popen([\"ls\", \"/srv/conda/share/jalview-2.10.5-3/\"], stdout=subprocess.PIPE)\n",
    "\n",
    "p.communicate()\n"
   ]
  },
  {
   "cell_type": "code",
   "execution_count": 16,
   "metadata": {},
   "outputs": [
    {
     "data": {
      "application/vnd.jupyter.widget-view+json": {
       "model_id": "cbbf5931-2d31-4e97-aa77-ac0a00f8e4aa",
       "version_major": 2,
       "version_minor": 0
      },
      "method": "display_data"
     },
     "metadata": {},
     "output_type": "display_data"
    }
   ],
   "source": [
    "%classpath add jar /srv/conda/share/jalview-2.10.5-3/*"
   ]
  },
  {
   "cell_type": "code",
   "execution_count": null,
   "metadata": {},
   "outputs": [
    {
     "name": "stdout",
     "output_type": "stream",
     "text": [
      "Java version: 1.8.0_152-release\n",
      "amd64 Linux 4.14.56+\n",
      "Usage: jalview -open [FILE] [OUTPUT_FORMAT] [OUTPUT_FILE]\n",
      "\n",
      "-nodisplay\tRun Jalview without User Interface.\n",
      "-props FILE\tUse the given Jalview properties file instead of users default.\n",
      "-colour COLOURSCHEME\tThe colourscheme to be applied to the alignment\n",
      "-annotations FILE\tAdd precalculated annotations to the alignment.\n",
      "-tree FILE\tLoad the given newick format tree file onto the alignment\n",
      "-features FILE\tUse the given file to mark features on the alignment.\n",
      "-fasta FILE\tCreate alignment file FILE in Fasta format.\n",
      "-clustal FILE\tCreate alignment file FILE in Clustal format.\n",
      "-pfam FILE\tCreate alignment file FILE in PFAM format.\n",
      "-msf FILE\tCreate alignment file FILE in MSF format.\n",
      "-pileup FILE\tCreate alignment file FILE in Pileup format\n",
      "-pir FILE\tCreate alignment file FILE in PIR format.\n",
      "-blc FILE\tCreate alignment file FILE in BLC format.\n",
      "-json FILE\tCreate alignment file FILE in JSON format.\n",
      "-jalview FILE\tCreate alignment file FILE in Jalview format.\n",
      "-png FILE\tCreate PNG image FILE from alignment.\n",
      "-svg FILE\tCreate SVG image FILE from alignment.\n",
      "-html FILE\tCreate HTML file from alignment.\n",
      "-biojsMSA FILE\tCreate BioJS MSA Viewer HTML file from alignment.\n",
      "-imgMap FILE\tCreate HTML file FILE with image map of PNG image.\n",
      "-eps FILE\tCreate EPS file FILE from alignment.\n",
      "-questionnaire URL\tQueries the given URL for information about any Jalview user questionnaires.\n",
      "-noquestionnaire\tTurn off questionnaire check.\n",
      "-nonews\tTurn off check for Jalview news.\n",
      "-nousagestats\tTurn off google analytics tracking for this session.\n",
      "-sortbytree OR -nosortbytree\tEnable or disable sorting of the given alignment by the given tree\n",
      "-jabaws URL\tSpecify URL for Jabaws services (e.g. for a local installation).\n",
      "-dasserver nickname=URL\tAdd and enable a das server with given nickname\n",
      "\t\t\t(alphanumeric or underscores only) for retrieval of features for all alignments.\n",
      "\t\t\tSources that also support the sequence command may be specified by prepending the URL with sequence:\n",
      "\t\t\t e.g. sequence:http://localdas.somewhere.org/das/source)\n",
      "-fetchfrom nickname\tQuery nickname for features for the alignments and display them.\n",
      "-groovy FILE\tExecute groovy script in FILE, after all other arguments have been processed (if FILE is the text 'STDIN' then the file will be read from STDIN)\n",
      "\n",
      "~Read documentation in Application or visit http://www.jalview.org for description of Features and Annotations file~\n",
      "\n",
      "\n"
     ]
    }
   ],
   "source": [
    "import jalview.bin.Jalview\n",
    "import jalview.gui.Desktop\n",
    "\n",
    "jalview.bin.Jalview.main([\"-nogui\",\"-help\"] as java.lang.String[]);"
   ]
  },
  {
   "cell_type": "code",
   "execution_count": null,
   "metadata": {},
   "outputs": [],
   "source": []
  }
 ],
 "metadata": {
  "celltoolbar": "Raw Cell Format",
  "kernelspec": {
   "display_name": "Groovy",
   "language": "groovy",
   "name": "groovy"
  },
  "language_info": {
   "codemirror_mode": "groovy",
   "file_extension": ".groovy",
   "mimetype": "",
   "name": "Groovy",
   "nbconverter_exporter": "",
   "version": "2.4.3"
  },
  "toc": {
   "base_numbering": 1,
   "nav_menu": {},
   "number_sections": false,
   "sideBar": false,
   "skip_h1_title": false,
   "title_cell": "Table of Contents",
   "title_sidebar": "Contents",
   "toc_cell": false,
   "toc_position": {},
   "toc_section_display": false,
   "toc_window_display": false
  }
 },
 "nbformat": 4,
 "nbformat_minor": 2
}
